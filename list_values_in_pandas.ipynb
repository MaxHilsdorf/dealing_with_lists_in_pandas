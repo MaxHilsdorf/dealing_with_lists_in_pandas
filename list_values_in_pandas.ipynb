{
 "cells": [
  {
   "cell_type": "markdown",
   "metadata": {},
   "source": [
    "# Dealing with List Values in a Pandas Dataframe"
   ]
  },
  {
   "cell_type": "markdown",
   "metadata": {},
   "source": [
    "This notebook serves as supplementary material for my medium post at [LINK will be added soon]. I will show you a few techniques that will enable you to deal with list values in pandas effectively."
   ]
  },
  {
   "cell_type": "markdown",
   "metadata": {},
   "source": [
    "## 0. Imports and Dataset"
   ]
  },
  {
   "cell_type": "code",
   "execution_count": 1,
   "metadata": {},
   "outputs": [],
   "source": [
    "import pandas as pd\n",
    "import numpy as np\n",
    "import matplotlib.pyplot as plt"
   ]
  },
  {
   "cell_type": "code",
   "execution_count": 2,
   "metadata": {},
   "outputs": [],
   "source": [
    "fruits = pd.read_csv(\"fruits.csv\", delimiter = \";\")"
   ]
  },
  {
   "cell_type": "code",
   "execution_count": 3,
   "metadata": {},
   "outputs": [
    {
     "data": {
      "text/html": [
       "<div>\n",
       "<style scoped>\n",
       "    .dataframe tbody tr th:only-of-type {\n",
       "        vertical-align: middle;\n",
       "    }\n",
       "\n",
       "    .dataframe tbody tr th {\n",
       "        vertical-align: top;\n",
       "    }\n",
       "\n",
       "    .dataframe thead th {\n",
       "        text-align: right;\n",
       "    }\n",
       "</style>\n",
       "<table border=\"1\" class=\"dataframe\">\n",
       "  <thead>\n",
       "    <tr style=\"text-align: right;\">\n",
       "      <th></th>\n",
       "      <th>name</th>\n",
       "      <th>age</th>\n",
       "      <th>favorite_fruits</th>\n",
       "    </tr>\n",
       "  </thead>\n",
       "  <tbody>\n",
       "    <tr>\n",
       "      <th>0</th>\n",
       "      <td>tammy</td>\n",
       "      <td>6</td>\n",
       "      <td>[\"banana\", \"mango\", \"orange\", \"watermelon\"]</td>\n",
       "    </tr>\n",
       "    <tr>\n",
       "      <th>1</th>\n",
       "      <td>bonny</td>\n",
       "      <td>8</td>\n",
       "      <td>[\"apple\", \"pear\", \"peach\"]</td>\n",
       "    </tr>\n",
       "    <tr>\n",
       "      <th>2</th>\n",
       "      <td>helga</td>\n",
       "      <td>8</td>\n",
       "      <td>[]</td>\n",
       "    </tr>\n",
       "    <tr>\n",
       "      <th>3</th>\n",
       "      <td>tom</td>\n",
       "      <td>10</td>\n",
       "      <td>[\"banana\", \"maracuja\", \"watermelon\", \"apple\", ...</td>\n",
       "    </tr>\n",
       "    <tr>\n",
       "      <th>4</th>\n",
       "      <td>jerome</td>\n",
       "      <td>7</td>\n",
       "      <td>[\"strawberry\", \"raspberry\", \"blueberry\"]</td>\n",
       "    </tr>\n",
       "    <tr>\n",
       "      <th>5</th>\n",
       "      <td>hans</td>\n",
       "      <td>9</td>\n",
       "      <td>[\"blueberry\", \"watermelon\", \"apple\", \"raspberry\"]</td>\n",
       "    </tr>\n",
       "    <tr>\n",
       "      <th>6</th>\n",
       "      <td>lisa</td>\n",
       "      <td>10</td>\n",
       "      <td>[\"mango\", \"pineapple\", \"orange\"]</td>\n",
       "    </tr>\n",
       "    <tr>\n",
       "      <th>7</th>\n",
       "      <td>trish</td>\n",
       "      <td>6</td>\n",
       "      <td>[\"watermelon\", \"apple\", \"blueberry\", \"pear\", \"...</td>\n",
       "    </tr>\n",
       "    <tr>\n",
       "      <th>8</th>\n",
       "      <td>steve</td>\n",
       "      <td>8</td>\n",
       "      <td>[\"pear\", \"strawberry\", \"raspberry\"]</td>\n",
       "    </tr>\n",
       "    <tr>\n",
       "      <th>9</th>\n",
       "      <td>antoine</td>\n",
       "      <td>5</td>\n",
       "      <td>[\"peach\", \"strawberry\", \"apple\", \"blueberry\"]</td>\n",
       "    </tr>\n",
       "  </tbody>\n",
       "</table>\n",
       "</div>"
      ],
      "text/plain": [
       "      name  age                                    favorite_fruits\n",
       "0    tammy    6        [\"banana\", \"mango\", \"orange\", \"watermelon\"]\n",
       "1    bonny    8                         [\"apple\", \"pear\", \"peach\"]\n",
       "2    helga    8                                                 []\n",
       "3      tom   10  [\"banana\", \"maracuja\", \"watermelon\", \"apple\", ...\n",
       "4   jerome    7           [\"strawberry\", \"raspberry\", \"blueberry\"]\n",
       "5     hans    9  [\"blueberry\", \"watermelon\", \"apple\", \"raspberry\"]\n",
       "6     lisa   10                   [\"mango\", \"pineapple\", \"orange\"]\n",
       "7    trish    6  [\"watermelon\", \"apple\", \"blueberry\", \"pear\", \"...\n",
       "8    steve    8                [\"pear\", \"strawberry\", \"raspberry\"]\n",
       "9  antoine    5      [\"peach\", \"strawberry\", \"apple\", \"blueberry\"]"
      ]
     },
     "execution_count": 3,
     "metadata": {},
     "output_type": "execute_result"
    }
   ],
   "source": [
    "fruits"
   ]
  },
  {
   "cell_type": "markdown",
   "metadata": {},
   "source": [
    "This dataset is fictional. However, I tried to make it look a bit like a real life scenario. This way, I can hopefully help you solve the problems you would encounter in such a scenario."
   ]
  },
  {
   "cell_type": "markdown",
   "metadata": {},
   "source": [
    "## Fictional Research Question"
   ]
  },
  {
   "cell_type": "markdown",
   "metadata": {},
   "source": [
    "* Which fruit occurs the most/the least?\n",
    "* Which tags are the most strongly correlated?"
   ]
  },
  {
   "cell_type": "markdown",
   "metadata": {},
   "source": [
    "## The Basic Problem"
   ]
  },
  {
   "cell_type": "markdown",
   "metadata": {},
   "source": [
    "The main problem with lists in pandas is, that most of pandas' integrated functions aren't compatible with them. Pandas stores every value in a column as one data type. For strings, integers, floats, or datetime values, this doesn't pose a problem. Let's say we want to analyze the age of the sample."
   ]
  },
  {
   "cell_type": "markdown",
   "metadata": {},
   "source": [
    "Let's use the value_counts function, which counts, how many times each value of a series occurs in the dataframe."
   ]
  },
  {
   "cell_type": "code",
   "execution_count": 4,
   "metadata": {},
   "outputs": [
    {
     "data": {
      "text/plain": [
       "8     3\n",
       "10    2\n",
       "6     2\n",
       "9     1\n",
       "7     1\n",
       "5     1\n",
       "Name: age, dtype: int64"
      ]
     },
     "execution_count": 4,
     "metadata": {},
     "output_type": "execute_result"
    }
   ],
   "source": [
    "fruits[\"age\"].value_counts()"
   ]
  },
  {
   "cell_type": "markdown",
   "metadata": {},
   "source": [
    "If we tried to do this with the list values, we would get really bad results."
   ]
  },
  {
   "cell_type": "code",
   "execution_count": 5,
   "metadata": {},
   "outputs": [
    {
     "data": {
      "text/plain": [
       "[\"mango\", \"pineapple\", \"orange\"]                              1\n",
       "[\"apple\", \"pear\", \"peach\"]                                    1\n",
       "[\"banana\", \"mango\", \"orange\", \"watermelon\"]                   1\n",
       "[\"pear\", \"strawberry\", \"raspberry\"]                           1\n",
       "[\"banana\", \"maracuja\", \"watermelon\", \"apple\", \"pineapple\"]    1\n",
       "[\"blueberry\", \"watermelon\", \"apple\", \"raspberry\"]             1\n",
       "[\"strawberry\", \"raspberry\", \"blueberry\"]                      1\n",
       "[]                                                            1\n",
       "[\"peach\", \"strawberry\", \"apple\", \"blueberry\"]                 1\n",
       "[\"watermelon\", \"apple\", \"blueberry\", \"pear\", \"strawberry\"]    1\n",
       "Name: favorite_fruits, dtype: int64"
      ]
     },
     "execution_count": 5,
     "metadata": {},
     "output_type": "execute_result"
    }
   ],
   "source": [
    "fruits[\"favorite_fruits\"].value_counts()"
   ]
  },
  {
   "cell_type": "markdown",
   "metadata": {},
   "source": [
    "As you can see, pandas treats every single list item as a single string and is unable to work with the individual components of these strings."
   ]
  },
  {
   "cell_type": "markdown",
   "metadata": {},
   "source": [
    "To answer the research questions, we'll need to fix this. In the following, I will present some of the typical issues you'll face and how to solve them efficiently."
   ]
  },
  {
   "cell_type": "markdown",
   "metadata": {},
   "source": [
    "## Problem 1. Lists are stored as strings"
   ]
  },
  {
   "cell_type": "markdown",
   "metadata": {},
   "source": [
    "### Case 1"
   ]
  },
  {
   "cell_type": "markdown",
   "metadata": {},
   "source": [
    "In our dataframe, each list of fruits is registered as a string object."
   ]
  },
  {
   "cell_type": "code",
   "execution_count": 6,
   "metadata": {},
   "outputs": [
    {
     "name": "stdout",
     "output_type": "stream",
     "text": [
      "list 0 is <class 'str'>\n",
      "list 1 is <class 'str'>\n",
      "list 2 is <class 'str'>\n",
      "list 3 is <class 'str'>\n",
      "list 4 is <class 'str'>\n",
      "list 5 is <class 'str'>\n",
      "list 6 is <class 'str'>\n",
      "list 7 is <class 'str'>\n",
      "list 8 is <class 'str'>\n",
      "list 9 is <class 'str'>\n"
     ]
    }
   ],
   "source": [
    "for i, l in enumerate(fruits[\"favorite_fruits\"]):\n",
    "    print(\"list\",i,\"is\",type(l))"
   ]
  },
  {
   "cell_type": "markdown",
   "metadata": {},
   "source": [
    "There is an easy way to fix this using the apply method."
   ]
  },
  {
   "cell_type": "code",
   "execution_count": 7,
   "metadata": {},
   "outputs": [],
   "source": [
    "fruits[\"favorite_fruits\"] = fruits[\"favorite_fruits\"].apply(eval)"
   ]
  },
  {
   "cell_type": "code",
   "execution_count": 8,
   "metadata": {},
   "outputs": [
    {
     "name": "stdout",
     "output_type": "stream",
     "text": [
      "list 0 is <class 'list'>\n",
      "list 1 is <class 'list'>\n",
      "list 2 is <class 'list'>\n",
      "list 3 is <class 'list'>\n",
      "list 4 is <class 'list'>\n",
      "list 5 is <class 'list'>\n",
      "list 6 is <class 'list'>\n",
      "list 7 is <class 'list'>\n",
      "list 8 is <class 'list'>\n",
      "list 9 is <class 'list'>\n"
     ]
    }
   ],
   "source": [
    "for i, l in enumerate(fruits[\"favorite_fruits\"]):\n",
    "    print(\"list\",i,\"is\",type(l))"
   ]
  },
  {
   "cell_type": "markdown",
   "metadata": {},
   "source": [
    "Note that pandas will still categorize the series as the object datatype (\"O\"), which is typicall used for strings. This is'nt a problem, but might confuse you at first glance."
   ]
  },
  {
   "cell_type": "code",
   "execution_count": 9,
   "metadata": {},
   "outputs": [
    {
     "data": {
      "text/plain": [
       "dtype('O')"
      ]
     },
     "execution_count": 9,
     "metadata": {},
     "output_type": "execute_result"
    }
   ],
   "source": [
    "fruits[\"favorite_fruits\"].dtype"
   ]
  },
  {
   "cell_type": "code",
   "execution_count": 10,
   "metadata": {},
   "outputs": [
    {
     "data": {
      "text/html": [
       "<div>\n",
       "<style scoped>\n",
       "    .dataframe tbody tr th:only-of-type {\n",
       "        vertical-align: middle;\n",
       "    }\n",
       "\n",
       "    .dataframe tbody tr th {\n",
       "        vertical-align: top;\n",
       "    }\n",
       "\n",
       "    .dataframe thead th {\n",
       "        text-align: right;\n",
       "    }\n",
       "</style>\n",
       "<table border=\"1\" class=\"dataframe\">\n",
       "  <thead>\n",
       "    <tr style=\"text-align: right;\">\n",
       "      <th></th>\n",
       "      <th>name</th>\n",
       "      <th>age</th>\n",
       "      <th>favorite_fruits</th>\n",
       "    </tr>\n",
       "  </thead>\n",
       "  <tbody>\n",
       "    <tr>\n",
       "      <th>0</th>\n",
       "      <td>tammy</td>\n",
       "      <td>6</td>\n",
       "      <td>[banana, mango, orange, watermelon]</td>\n",
       "    </tr>\n",
       "    <tr>\n",
       "      <th>1</th>\n",
       "      <td>bonny</td>\n",
       "      <td>8</td>\n",
       "      <td>[apple, pear, peach]</td>\n",
       "    </tr>\n",
       "    <tr>\n",
       "      <th>2</th>\n",
       "      <td>helga</td>\n",
       "      <td>8</td>\n",
       "      <td>[]</td>\n",
       "    </tr>\n",
       "    <tr>\n",
       "      <th>3</th>\n",
       "      <td>tom</td>\n",
       "      <td>10</td>\n",
       "      <td>[banana, maracuja, watermelon, apple, pineapple]</td>\n",
       "    </tr>\n",
       "    <tr>\n",
       "      <th>4</th>\n",
       "      <td>jerome</td>\n",
       "      <td>7</td>\n",
       "      <td>[strawberry, raspberry, blueberry]</td>\n",
       "    </tr>\n",
       "    <tr>\n",
       "      <th>5</th>\n",
       "      <td>hans</td>\n",
       "      <td>9</td>\n",
       "      <td>[blueberry, watermelon, apple, raspberry]</td>\n",
       "    </tr>\n",
       "    <tr>\n",
       "      <th>6</th>\n",
       "      <td>lisa</td>\n",
       "      <td>10</td>\n",
       "      <td>[mango, pineapple, orange]</td>\n",
       "    </tr>\n",
       "    <tr>\n",
       "      <th>7</th>\n",
       "      <td>trish</td>\n",
       "      <td>6</td>\n",
       "      <td>[watermelon, apple, blueberry, pear, strawberry]</td>\n",
       "    </tr>\n",
       "    <tr>\n",
       "      <th>8</th>\n",
       "      <td>steve</td>\n",
       "      <td>8</td>\n",
       "      <td>[pear, strawberry, raspberry]</td>\n",
       "    </tr>\n",
       "    <tr>\n",
       "      <th>9</th>\n",
       "      <td>antoine</td>\n",
       "      <td>5</td>\n",
       "      <td>[peach, strawberry, apple, blueberry]</td>\n",
       "    </tr>\n",
       "  </tbody>\n",
       "</table>\n",
       "</div>"
      ],
      "text/plain": [
       "      name  age                                   favorite_fruits\n",
       "0    tammy    6               [banana, mango, orange, watermelon]\n",
       "1    bonny    8                              [apple, pear, peach]\n",
       "2    helga    8                                                []\n",
       "3      tom   10  [banana, maracuja, watermelon, apple, pineapple]\n",
       "4   jerome    7                [strawberry, raspberry, blueberry]\n",
       "5     hans    9         [blueberry, watermelon, apple, raspberry]\n",
       "6     lisa   10                        [mango, pineapple, orange]\n",
       "7    trish    6  [watermelon, apple, blueberry, pear, strawberry]\n",
       "8    steve    8                     [pear, strawberry, raspberry]\n",
       "9  antoine    5             [peach, strawberry, apple, blueberry]"
      ]
     },
     "execution_count": 10,
     "metadata": {},
     "output_type": "execute_result"
    }
   ],
   "source": [
    "fruits"
   ]
  },
  {
   "cell_type": "markdown",
   "metadata": {},
   "source": [
    "### Case 2"
   ]
  },
  {
   "cell_type": "markdown",
   "metadata": {},
   "source": [
    "If our list looked like this, things would be a bit more complicated:"
   ]
  },
  {
   "cell_type": "code",
   "execution_count": 11,
   "metadata": {},
   "outputs": [],
   "source": [
    "alt_list = '[item1, item2, item3]'"
   ]
  },
  {
   "cell_type": "code",
   "execution_count": 12,
   "metadata": {
    "scrolled": true
   },
   "outputs": [
    {
     "ename": "NameError",
     "evalue": "name 'item1' is not defined",
     "output_type": "error",
     "traceback": [
      "\u001b[1;31m---------------------------------------------------------------------------\u001b[0m",
      "\u001b[1;31mNameError\u001b[0m                                 Traceback (most recent call last)",
      "\u001b[1;32m<ipython-input-12-0dedb7d9d642>\u001b[0m in \u001b[0;36m<module>\u001b[1;34m\u001b[0m\n\u001b[1;32m----> 1\u001b[1;33m \u001b[0meval\u001b[0m\u001b[1;33m(\u001b[0m\u001b[0malt_list\u001b[0m\u001b[1;33m)\u001b[0m\u001b[1;33m\u001b[0m\u001b[1;33m\u001b[0m\u001b[0m\n\u001b[0m",
      "\u001b[1;32m<string>\u001b[0m in \u001b[0;36m<module>\u001b[1;34m\u001b[0m\n",
      "\u001b[1;31mNameError\u001b[0m: name 'item1' is not defined"
     ]
    }
   ],
   "source": [
    "eval(alt_list)"
   ]
  },
  {
   "cell_type": "markdown",
   "metadata": {},
   "source": [
    "We can't use eval here, because the items are not stored as strings using \" \". If we remove the outer ' ', python will try to deal with the items as variables. And since they are not assigned any value, python will return an error."
   ]
  },
  {
   "cell_type": "markdown",
   "metadata": {},
   "source": [
    "I won't go in depth on how to solve this special problem, but for those who have the issue, the function below can solve it."
   ]
  },
  {
   "cell_type": "code",
   "execution_count": 13,
   "metadata": {},
   "outputs": [],
   "source": [
    "def clean_alt_list(list_):\n",
    "    list_ = list_.replace(', ', '\",\"')\n",
    "    list_ = list_.replace('[', '[\"')\n",
    "    list_ = list_.replace(']', '\"]')\n",
    "    return list_"
   ]
  },
  {
   "cell_type": "code",
   "execution_count": 14,
   "metadata": {},
   "outputs": [
    {
     "data": {
      "text/plain": [
       "'[\"item1\",\"item2\",\"item3\"]'"
      ]
     },
     "execution_count": 14,
     "metadata": {},
     "output_type": "execute_result"
    }
   ],
   "source": [
    "clean_alt_list(alt_list)"
   ]
  },
  {
   "cell_type": "markdown",
   "metadata": {},
   "source": [
    "Now, we would be able to clean the entire series using df[col].apply(clean_alt_list)."
   ]
  },
  {
   "cell_type": "markdown",
   "metadata": {},
   "source": [
    "__OKAY__, so we solved the string type issue. Great! However, there is still more to do."
   ]
  },
  {
   "cell_type": "markdown",
   "metadata": {},
   "source": [
    "## Problem 2. How to get unqiue values and value counts?"
   ]
  },
  {
   "cell_type": "markdown",
   "metadata": {},
   "source": [
    "We have converted the lists from string to list objects. However, using value_counts still doesn't give us any better results."
   ]
  },
  {
   "cell_type": "code",
   "execution_count": 15,
   "metadata": {},
   "outputs": [
    {
     "ename": "TypeError",
     "evalue": "unhashable type: 'list'",
     "output_type": "error",
     "traceback": [
      "\u001b[1;31m---------------------------------------------------------------------------\u001b[0m",
      "\u001b[1;31mTypeError\u001b[0m                                 Traceback (most recent call last)",
      "\u001b[1;32mpandas\\_libs\\hashtable_class_helper.pxi\u001b[0m in \u001b[0;36mpandas._libs.hashtable.PyObjectHashTable.map_locations\u001b[1;34m()\u001b[0m\n",
      "\u001b[1;31mTypeError\u001b[0m: unhashable type: 'list'"
     ]
    },
    {
     "name": "stderr",
     "output_type": "stream",
     "text": [
      "Exception ignored in: 'pandas._libs.index.IndexEngine._call_map_locations'\n",
      "Traceback (most recent call last):\n",
      "  File \"pandas\\_libs\\hashtable_class_helper.pxi\", line 1652, in pandas._libs.hashtable.PyObjectHashTable.map_locations\n",
      "TypeError: unhashable type: 'list'\n"
     ]
    },
    {
     "data": {
      "text/plain": [
       "[blueberry, watermelon, apple, raspberry]           1\n",
       "[peach, strawberry, apple, blueberry]               1\n",
       "[apple, pear, peach]                                1\n",
       "[banana, mango, orange, watermelon]                 1\n",
       "[mango, pineapple, orange]                          1\n",
       "[pear, strawberry, raspberry]                       1\n",
       "[strawberry, raspberry, blueberry]                  1\n",
       "[banana, maracuja, watermelon, apple, pineapple]    1\n",
       "[]                                                  1\n",
       "[watermelon, apple, blueberry, pear, strawberry]    1\n",
       "Name: favorite_fruits, dtype: int64"
      ]
     },
     "execution_count": 15,
     "metadata": {},
     "output_type": "execute_result"
    }
   ],
   "source": [
    "fruits[\"favorite_fruits\"].value_counts()"
   ]
  },
  {
   "cell_type": "markdown",
   "metadata": {},
   "source": [
    "Instead, we can use this simple method to get our value counts in two lines of code."
   ]
  },
  {
   "cell_type": "code",
   "execution_count": 16,
   "metadata": {},
   "outputs": [],
   "source": [
    "# This function transforms the list of lists which is the fruits[\"favorite_fruits\"] column from 2D to 1D\n",
    "def to_1D(series):\n",
    "    return pd.Series([x for _list in series for x in _list])"
   ]
  },
  {
   "cell_type": "markdown",
   "metadata": {},
   "source": [
    "First, we apply the magic."
   ]
  },
  {
   "cell_type": "code",
   "execution_count": 17,
   "metadata": {},
   "outputs": [
    {
     "data": {
      "text/plain": [
       "0         banana\n",
       "1          mango\n",
       "2         orange\n",
       "3     watermelon\n",
       "4          apple\n",
       "5           pear\n",
       "6          peach\n",
       "7         banana\n",
       "8       maracuja\n",
       "9     watermelon\n",
       "10         apple\n",
       "11     pineapple\n",
       "12    strawberry\n",
       "13     raspberry\n",
       "14     blueberry\n",
       "15     blueberry\n",
       "16    watermelon\n",
       "17         apple\n",
       "18     raspberry\n",
       "19         mango\n",
       "20     pineapple\n",
       "21        orange\n",
       "22    watermelon\n",
       "23         apple\n",
       "24     blueberry\n",
       "25          pear\n",
       "26    strawberry\n",
       "27          pear\n",
       "28    strawberry\n",
       "29     raspberry\n",
       "30         peach\n",
       "31    strawberry\n",
       "32         apple\n",
       "33     blueberry\n",
       "dtype: object"
      ]
     },
     "execution_count": 17,
     "metadata": {},
     "output_type": "execute_result"
    }
   ],
   "source": [
    "to_1D(fruits[\"favorite_fruits\"])"
   ]
  },
  {
   "cell_type": "markdown",
   "metadata": {},
   "source": [
    "Now, we can use value_counts() on the resulting list."
   ]
  },
  {
   "cell_type": "code",
   "execution_count": 18,
   "metadata": {},
   "outputs": [
    {
     "data": {
      "text/plain": [
       "apple         5\n",
       "watermelon    4\n",
       "blueberry     4\n",
       "strawberry    4\n",
       "pear          3\n",
       "raspberry     3\n",
       "pineapple     2\n",
       "banana        2\n",
       "orange        2\n",
       "peach         2\n",
       "mango         2\n",
       "maracuja      1\n",
       "dtype: int64"
      ]
     },
     "execution_count": 18,
     "metadata": {},
     "output_type": "execute_result"
    }
   ],
   "source": [
    "to_1D(fruits[\"favorite_fruits\"]).value_counts()"
   ]
  },
  {
   "cell_type": "code",
   "execution_count": 41,
   "metadata": {},
   "outputs": [
    {
     "data": {
      "image/png": "[encoded data removed]",
      "text/plain": [
       "<Figure size 1008x288 with 1 Axes>"
      ]
     },
     "metadata": {
      "needs_background": "light"
     },
     "output_type": "display_data"
    }
   ],
   "source": [
    "fig, ax = plt.subplots(figsize = (14,4))\n",
    "ax.bar(to_1D(fruits[\"favorite_fruits\"]).value_counts().index,\n",
    "        to_1D(fruits[\"favorite_fruits\"]).value_counts().values)\n",
    "ax.set_ylabel(\"Frequency\", size = 12)\n",
    "ax.set_title(\"Children's Favorite Fruits\", size = 14)\n",
    "\n",
    "plt.savefig(\"bar_viz.jpg\", dpi = 300)"
   ]
  },
  {
   "cell_type": "markdown",
   "metadata": {},
   "source": [
    "Alternatively, we could get all unique values using the unique function."
   ]
  },
  {
   "cell_type": "code",
   "execution_count": 20,
   "metadata": {},
   "outputs": [
    {
     "data": {
      "text/plain": [
       "array(['banana', 'mango', 'orange', 'watermelon', 'apple', 'pear',\n",
       "       'peach', 'maracuja', 'pineapple', 'strawberry', 'raspberry',\n",
       "       'blueberry'], dtype=object)"
      ]
     },
     "execution_count": 20,
     "metadata": {},
     "output_type": "execute_result"
    }
   ],
   "source": [
    "to_1D(fruits[\"favorite_fruits\"]).unique()"
   ]
  },
  {
   "cell_type": "markdown",
   "metadata": {},
   "source": [
    "__OKAY__, with this, we can answer research question one: apples were named the most and maracujas the least."
   ]
  },
  {
   "cell_type": "markdown",
   "metadata": {},
   "source": [
    "## Problem 3. What if I want to have a column for every list item?"
   ]
  },
  {
   "cell_type": "markdown",
   "metadata": {},
   "source": [
    "There are two ways to do this. One is very simple and the other is rather complex and time consuming. However, you will need to choose between the two depending on the task you want to accomplish."
   ]
  },
  {
   "cell_type": "markdown",
   "metadata": {},
   "source": [
    "__Method 1__"
   ]
  },
  {
   "cell_type": "markdown",
   "metadata": {},
   "source": [
    "This is a shockingly easy and fast method I stumbled upon. And it's so useful!"
   ]
  },
  {
   "cell_type": "code",
   "execution_count": 21,
   "metadata": {},
   "outputs": [
    {
     "data": {
      "text/html": [
       "<div>\n",
       "<style scoped>\n",
       "    .dataframe tbody tr th:only-of-type {\n",
       "        vertical-align: middle;\n",
       "    }\n",
       "\n",
       "    .dataframe tbody tr th {\n",
       "        vertical-align: top;\n",
       "    }\n",
       "\n",
       "    .dataframe thead th {\n",
       "        text-align: right;\n",
       "    }\n",
       "</style>\n",
       "<table border=\"1\" class=\"dataframe\">\n",
       "  <thead>\n",
       "    <tr style=\"text-align: right;\">\n",
       "      <th></th>\n",
       "      <th>name</th>\n",
       "      <th>age</th>\n",
       "      <th>favorite_fruits</th>\n",
       "    </tr>\n",
       "  </thead>\n",
       "  <tbody>\n",
       "    <tr>\n",
       "      <th>0</th>\n",
       "      <td>tammy</td>\n",
       "      <td>6</td>\n",
       "      <td>[banana, mango, orange, watermelon]</td>\n",
       "    </tr>\n",
       "    <tr>\n",
       "      <th>1</th>\n",
       "      <td>bonny</td>\n",
       "      <td>8</td>\n",
       "      <td>[apple, pear, peach]</td>\n",
       "    </tr>\n",
       "    <tr>\n",
       "      <th>2</th>\n",
       "      <td>helga</td>\n",
       "      <td>8</td>\n",
       "      <td>[]</td>\n",
       "    </tr>\n",
       "    <tr>\n",
       "      <th>3</th>\n",
       "      <td>tom</td>\n",
       "      <td>10</td>\n",
       "      <td>[banana, maracuja, watermelon, apple, pineapple]</td>\n",
       "    </tr>\n",
       "    <tr>\n",
       "      <th>4</th>\n",
       "      <td>jerome</td>\n",
       "      <td>7</td>\n",
       "      <td>[strawberry, raspberry, blueberry]</td>\n",
       "    </tr>\n",
       "    <tr>\n",
       "      <th>5</th>\n",
       "      <td>hans</td>\n",
       "      <td>9</td>\n",
       "      <td>[blueberry, watermelon, apple, raspberry]</td>\n",
       "    </tr>\n",
       "    <tr>\n",
       "      <th>6</th>\n",
       "      <td>lisa</td>\n",
       "      <td>10</td>\n",
       "      <td>[mango, pineapple, orange]</td>\n",
       "    </tr>\n",
       "    <tr>\n",
       "      <th>7</th>\n",
       "      <td>trish</td>\n",
       "      <td>6</td>\n",
       "      <td>[watermelon, apple, blueberry, pear, strawberry]</td>\n",
       "    </tr>\n",
       "    <tr>\n",
       "      <th>8</th>\n",
       "      <td>steve</td>\n",
       "      <td>8</td>\n",
       "      <td>[pear, strawberry, raspberry]</td>\n",
       "    </tr>\n",
       "    <tr>\n",
       "      <th>9</th>\n",
       "      <td>antoine</td>\n",
       "      <td>5</td>\n",
       "      <td>[peach, strawberry, apple, blueberry]</td>\n",
       "    </tr>\n",
       "  </tbody>\n",
       "</table>\n",
       "</div>"
      ],
      "text/plain": [
       "      name  age                                   favorite_fruits\n",
       "0    tammy    6               [banana, mango, orange, watermelon]\n",
       "1    bonny    8                              [apple, pear, peach]\n",
       "2    helga    8                                                []\n",
       "3      tom   10  [banana, maracuja, watermelon, apple, pineapple]\n",
       "4   jerome    7                [strawberry, raspberry, blueberry]\n",
       "5     hans    9         [blueberry, watermelon, apple, raspberry]\n",
       "6     lisa   10                        [mango, pineapple, orange]\n",
       "7    trish    6  [watermelon, apple, blueberry, pear, strawberry]\n",
       "8    steve    8                     [pear, strawberry, raspberry]\n",
       "9  antoine    5             [peach, strawberry, apple, blueberry]"
      ]
     },
     "execution_count": 21,
     "metadata": {},
     "output_type": "execute_result"
    }
   ],
   "source": [
    "fruits"
   ]
  },
  {
   "cell_type": "code",
   "execution_count": 22,
   "metadata": {},
   "outputs": [],
   "source": [
    "fruits_expanded_v1 = fruits[\"favorite_fruits\"].apply(pd.Series)"
   ]
  },
  {
   "cell_type": "code",
   "execution_count": 23,
   "metadata": {},
   "outputs": [
    {
     "data": {
      "text/html": [
       "<div>\n",
       "<style scoped>\n",
       "    .dataframe tbody tr th:only-of-type {\n",
       "        vertical-align: middle;\n",
       "    }\n",
       "\n",
       "    .dataframe tbody tr th {\n",
       "        vertical-align: top;\n",
       "    }\n",
       "\n",
       "    .dataframe thead th {\n",
       "        text-align: right;\n",
       "    }\n",
       "</style>\n",
       "<table border=\"1\" class=\"dataframe\">\n",
       "  <thead>\n",
       "    <tr style=\"text-align: right;\">\n",
       "      <th></th>\n",
       "      <th>0</th>\n",
       "      <th>1</th>\n",
       "      <th>2</th>\n",
       "      <th>3</th>\n",
       "      <th>4</th>\n",
       "    </tr>\n",
       "  </thead>\n",
       "  <tbody>\n",
       "    <tr>\n",
       "      <th>0</th>\n",
       "      <td>banana</td>\n",
       "      <td>mango</td>\n",
       "      <td>orange</td>\n",
       "      <td>watermelon</td>\n",
       "      <td>NaN</td>\n",
       "    </tr>\n",
       "    <tr>\n",
       "      <th>1</th>\n",
       "      <td>apple</td>\n",
       "      <td>pear</td>\n",
       "      <td>peach</td>\n",
       "      <td>NaN</td>\n",
       "      <td>NaN</td>\n",
       "    </tr>\n",
       "    <tr>\n",
       "      <th>2</th>\n",
       "      <td>NaN</td>\n",
       "      <td>NaN</td>\n",
       "      <td>NaN</td>\n",
       "      <td>NaN</td>\n",
       "      <td>NaN</td>\n",
       "    </tr>\n",
       "    <tr>\n",
       "      <th>3</th>\n",
       "      <td>banana</td>\n",
       "      <td>maracuja</td>\n",
       "      <td>watermelon</td>\n",
       "      <td>apple</td>\n",
       "      <td>pineapple</td>\n",
       "    </tr>\n",
       "    <tr>\n",
       "      <th>4</th>\n",
       "      <td>strawberry</td>\n",
       "      <td>raspberry</td>\n",
       "      <td>blueberry</td>\n",
       "      <td>NaN</td>\n",
       "      <td>NaN</td>\n",
       "    </tr>\n",
       "    <tr>\n",
       "      <th>5</th>\n",
       "      <td>blueberry</td>\n",
       "      <td>watermelon</td>\n",
       "      <td>apple</td>\n",
       "      <td>raspberry</td>\n",
       "      <td>NaN</td>\n",
       "    </tr>\n",
       "    <tr>\n",
       "      <th>6</th>\n",
       "      <td>mango</td>\n",
       "      <td>pineapple</td>\n",
       "      <td>orange</td>\n",
       "      <td>NaN</td>\n",
       "      <td>NaN</td>\n",
       "    </tr>\n",
       "    <tr>\n",
       "      <th>7</th>\n",
       "      <td>watermelon</td>\n",
       "      <td>apple</td>\n",
       "      <td>blueberry</td>\n",
       "      <td>pear</td>\n",
       "      <td>strawberry</td>\n",
       "    </tr>\n",
       "    <tr>\n",
       "      <th>8</th>\n",
       "      <td>pear</td>\n",
       "      <td>strawberry</td>\n",
       "      <td>raspberry</td>\n",
       "      <td>NaN</td>\n",
       "      <td>NaN</td>\n",
       "    </tr>\n",
       "    <tr>\n",
       "      <th>9</th>\n",
       "      <td>peach</td>\n",
       "      <td>strawberry</td>\n",
       "      <td>apple</td>\n",
       "      <td>blueberry</td>\n",
       "      <td>NaN</td>\n",
       "    </tr>\n",
       "  </tbody>\n",
       "</table>\n",
       "</div>"
      ],
      "text/plain": [
       "            0           1           2           3           4\n",
       "0      banana       mango      orange  watermelon         NaN\n",
       "1       apple        pear       peach         NaN         NaN\n",
       "2         NaN         NaN         NaN         NaN         NaN\n",
       "3      banana    maracuja  watermelon       apple   pineapple\n",
       "4  strawberry   raspberry   blueberry         NaN         NaN\n",
       "5   blueberry  watermelon       apple   raspberry         NaN\n",
       "6       mango   pineapple      orange         NaN         NaN\n",
       "7  watermelon       apple   blueberry        pear  strawberry\n",
       "8        pear  strawberry   raspberry         NaN         NaN\n",
       "9       peach  strawberry       apple   blueberry         NaN"
      ]
     },
     "execution_count": 23,
     "metadata": {},
     "output_type": "execute_result"
    }
   ],
   "source": [
    "fruits_expanded_v1"
   ]
  },
  {
   "cell_type": "markdown",
   "metadata": {},
   "source": [
    "With this, we can easily count how many times a certain fruit has been named as the number 1 or number 2 favorite fruit, for example."
   ]
  },
  {
   "cell_type": "code",
   "execution_count": 24,
   "metadata": {},
   "outputs": [],
   "source": [
    "def get_rankings(item, df = fruits_expanded_v1):\n",
    "    \n",
    "    # Empty dict for results\n",
    "    item_count_dict = {}\n",
    "    \n",
    "    # For every tag in df\n",
    "    for i in range(df.shape[1]):\n",
    "        \n",
    "        # Calculate % of cases that tagged the item\n",
    "        val_counts = df.iloc[:,i].value_counts(normalize = True)\n",
    "        if item in val_counts.index:\n",
    "            item_counts = val_counts[item]\n",
    "        else:\n",
    "            item_counts = 0\n",
    "        \n",
    "        # Add score to dict\n",
    "        item_count_dict[\"tag_{}\".format(i)] = item_counts\n",
    "    \n",
    "    return item_count_dict"
   ]
  },
  {
   "cell_type": "code",
   "execution_count": 42,
   "metadata": {},
   "outputs": [
    {
     "data": {
      "text/plain": [
       "banana        0.222222\n",
       "pear          0.111111\n",
       "watermelon    0.111111\n",
       "blueberry     0.111111\n",
       "strawberry    0.111111\n",
       "apple         0.111111\n",
       "peach         0.111111\n",
       "mango         0.111111\n",
       "Name: 0, dtype: float64"
      ]
     },
     "execution_count": 42,
     "metadata": {},
     "output_type": "execute_result"
    }
   ],
   "source": [
    "fruits_expanded_v1.iloc[:,0].value_counts(normalize = True)"
   ]
  },
  {
   "cell_type": "code",
   "execution_count": 26,
   "metadata": {},
   "outputs": [
    {
     "data": {
      "text/plain": [
       "{'tag_0': 0.1111111111111111,\n",
       " 'tag_1': 0.1111111111111111,\n",
       " 'tag_2': 0.2222222222222222,\n",
       " 'tag_3': 0.2,\n",
       " 'tag_4': 0}"
      ]
     },
     "execution_count": 26,
     "metadata": {},
     "output_type": "execute_result"
    }
   ],
   "source": [
    "get_rankings(item = \"apple\")"
   ]
  },
  {
   "cell_type": "markdown",
   "metadata": {},
   "source": [
    "Another use case would be to apply different weights to the items, depending on whether they were tagged first , second, or third."
   ]
  },
  {
   "cell_type": "markdown",
   "metadata": {},
   "source": [
    "__Method 2__"
   ]
  },
  {
   "cell_type": "markdown",
   "metadata": {},
   "source": [
    "This one relies on looping. For large datasets, this procedure will be very slow."
   ]
  },
  {
   "cell_type": "markdown",
   "metadata": {},
   "source": [
    "For this method, we need to get a list of __all__ unique items."
   ]
  },
  {
   "cell_type": "markdown",
   "metadata": {},
   "source": [
    "This isn't as easy as it may seem at first glance. The easiest way is to append every list of items onto each other and then reduce the dimensions back to 1. After that, we can chain a value_counts() right next to it to get all unique items. This is also the fastest way to figure out which items are the most/least frequent in the dataset."
   ]
  },
  {
   "cell_type": "code",
   "execution_count": 27,
   "metadata": {},
   "outputs": [],
   "source": [
    "def to_1D(series):\n",
    "    return pd.Series([x for _list in series for x in _list])"
   ]
  },
  {
   "cell_type": "code",
   "execution_count": 28,
   "metadata": {},
   "outputs": [],
   "source": [
    "unique_items = to_1D(fruits[\"favorite_fruits\"]).value_counts()"
   ]
  },
  {
   "cell_type": "code",
   "execution_count": 29,
   "metadata": {},
   "outputs": [
    {
     "data": {
      "text/plain": [
       "apple         5\n",
       "watermelon    4\n",
       "blueberry     4\n",
       "strawberry    4\n",
       "pear          3\n",
       "raspberry     3\n",
       "pineapple     2\n",
       "banana        2\n",
       "orange        2\n",
       "peach         2\n",
       "mango         2\n",
       "maracuja      1\n",
       "dtype: int64"
      ]
     },
     "execution_count": 29,
     "metadata": {},
     "output_type": "execute_result"
    }
   ],
   "source": [
    "unique_items"
   ]
  },
  {
   "cell_type": "code",
   "execution_count": 30,
   "metadata": {},
   "outputs": [],
   "source": [
    "def boolean_df(item_lists, unique_items):\n",
    "\n",
    "    # Create empty dict\n",
    "    bool_dict = {}\n",
    "    \n",
    "    # Loop through all the tags\n",
    "    for i, item in enumerate(unique_items):\n",
    "        \n",
    "        # Apply boolean mask that returns a True-False list of whether a tag is in a taglist\n",
    "        bool_dict[item] = item_lists.apply(lambda x: item in x)\n",
    "            \n",
    "    # Return the results as a dataframe\n",
    "    return pd.DataFrame(bool_dict)"
   ]
  },
  {
   "cell_type": "code",
   "execution_count": 31,
   "metadata": {},
   "outputs": [],
   "source": [
    "fruits_bool = boolean_df(fruits[\"favorite_fruits\"], unique_items.keys())"
   ]
  },
  {
   "cell_type": "code",
   "execution_count": 32,
   "metadata": {},
   "outputs": [
    {
     "data": {
      "text/html": [
       "<div>\n",
       "<style scoped>\n",
       "    .dataframe tbody tr th:only-of-type {\n",
       "        vertical-align: middle;\n",
       "    }\n",
       "\n",
       "    .dataframe tbody tr th {\n",
       "        vertical-align: top;\n",
       "    }\n",
       "\n",
       "    .dataframe thead th {\n",
       "        text-align: right;\n",
       "    }\n",
       "</style>\n",
       "<table border=\"1\" class=\"dataframe\">\n",
       "  <thead>\n",
       "    <tr style=\"text-align: right;\">\n",
       "      <th></th>\n",
       "      <th>apple</th>\n",
       "      <th>watermelon</th>\n",
       "      <th>blueberry</th>\n",
       "      <th>strawberry</th>\n",
       "      <th>pear</th>\n",
       "      <th>raspberry</th>\n",
       "      <th>pineapple</th>\n",
       "      <th>banana</th>\n",
       "      <th>orange</th>\n",
       "      <th>peach</th>\n",
       "      <th>mango</th>\n",
       "      <th>maracuja</th>\n",
       "    </tr>\n",
       "  </thead>\n",
       "  <tbody>\n",
       "    <tr>\n",
       "      <th>0</th>\n",
       "      <td>False</td>\n",
       "      <td>True</td>\n",
       "      <td>False</td>\n",
       "      <td>False</td>\n",
       "      <td>False</td>\n",
       "      <td>False</td>\n",
       "      <td>False</td>\n",
       "      <td>True</td>\n",
       "      <td>True</td>\n",
       "      <td>False</td>\n",
       "      <td>True</td>\n",
       "      <td>False</td>\n",
       "    </tr>\n",
       "    <tr>\n",
       "      <th>1</th>\n",
       "      <td>True</td>\n",
       "      <td>False</td>\n",
       "      <td>False</td>\n",
       "      <td>False</td>\n",
       "      <td>True</td>\n",
       "      <td>False</td>\n",
       "      <td>False</td>\n",
       "      <td>False</td>\n",
       "      <td>False</td>\n",
       "      <td>True</td>\n",
       "      <td>False</td>\n",
       "      <td>False</td>\n",
       "    </tr>\n",
       "    <tr>\n",
       "      <th>2</th>\n",
       "      <td>False</td>\n",
       "      <td>False</td>\n",
       "      <td>False</td>\n",
       "      <td>False</td>\n",
       "      <td>False</td>\n",
       "      <td>False</td>\n",
       "      <td>False</td>\n",
       "      <td>False</td>\n",
       "      <td>False</td>\n",
       "      <td>False</td>\n",
       "      <td>False</td>\n",
       "      <td>False</td>\n",
       "    </tr>\n",
       "    <tr>\n",
       "      <th>3</th>\n",
       "      <td>True</td>\n",
       "      <td>True</td>\n",
       "      <td>False</td>\n",
       "      <td>False</td>\n",
       "      <td>False</td>\n",
       "      <td>False</td>\n",
       "      <td>True</td>\n",
       "      <td>True</td>\n",
       "      <td>False</td>\n",
       "      <td>False</td>\n",
       "      <td>False</td>\n",
       "      <td>True</td>\n",
       "    </tr>\n",
       "    <tr>\n",
       "      <th>4</th>\n",
       "      <td>False</td>\n",
       "      <td>False</td>\n",
       "      <td>True</td>\n",
       "      <td>True</td>\n",
       "      <td>False</td>\n",
       "      <td>True</td>\n",
       "      <td>False</td>\n",
       "      <td>False</td>\n",
       "      <td>False</td>\n",
       "      <td>False</td>\n",
       "      <td>False</td>\n",
       "      <td>False</td>\n",
       "    </tr>\n",
       "    <tr>\n",
       "      <th>5</th>\n",
       "      <td>True</td>\n",
       "      <td>True</td>\n",
       "      <td>True</td>\n",
       "      <td>False</td>\n",
       "      <td>False</td>\n",
       "      <td>True</td>\n",
       "      <td>False</td>\n",
       "      <td>False</td>\n",
       "      <td>False</td>\n",
       "      <td>False</td>\n",
       "      <td>False</td>\n",
       "      <td>False</td>\n",
       "    </tr>\n",
       "    <tr>\n",
       "      <th>6</th>\n",
       "      <td>False</td>\n",
       "      <td>False</td>\n",
       "      <td>False</td>\n",
       "      <td>False</td>\n",
       "      <td>False</td>\n",
       "      <td>False</td>\n",
       "      <td>True</td>\n",
       "      <td>False</td>\n",
       "      <td>True</td>\n",
       "      <td>False</td>\n",
       "      <td>True</td>\n",
       "      <td>False</td>\n",
       "    </tr>\n",
       "    <tr>\n",
       "      <th>7</th>\n",
       "      <td>True</td>\n",
       "      <td>True</td>\n",
       "      <td>True</td>\n",
       "      <td>True</td>\n",
       "      <td>True</td>\n",
       "      <td>False</td>\n",
       "      <td>False</td>\n",
       "      <td>False</td>\n",
       "      <td>False</td>\n",
       "      <td>False</td>\n",
       "      <td>False</td>\n",
       "      <td>False</td>\n",
       "    </tr>\n",
       "    <tr>\n",
       "      <th>8</th>\n",
       "      <td>False</td>\n",
       "      <td>False</td>\n",
       "      <td>False</td>\n",
       "      <td>True</td>\n",
       "      <td>True</td>\n",
       "      <td>True</td>\n",
       "      <td>False</td>\n",
       "      <td>False</td>\n",
       "      <td>False</td>\n",
       "      <td>False</td>\n",
       "      <td>False</td>\n",
       "      <td>False</td>\n",
       "    </tr>\n",
       "    <tr>\n",
       "      <th>9</th>\n",
       "      <td>True</td>\n",
       "      <td>False</td>\n",
       "      <td>True</td>\n",
       "      <td>True</td>\n",
       "      <td>False</td>\n",
       "      <td>False</td>\n",
       "      <td>False</td>\n",
       "      <td>False</td>\n",
       "      <td>False</td>\n",
       "      <td>True</td>\n",
       "      <td>False</td>\n",
       "      <td>False</td>\n",
       "    </tr>\n",
       "  </tbody>\n",
       "</table>\n",
       "</div>"
      ],
      "text/plain": [
       "   apple  watermelon  blueberry  strawberry   pear  raspberry  pineapple  \\\n",
       "0  False        True      False       False  False      False      False   \n",
       "1   True       False      False       False   True      False      False   \n",
       "2  False       False      False       False  False      False      False   \n",
       "3   True        True      False       False  False      False       True   \n",
       "4  False       False       True        True  False       True      False   \n",
       "5   True        True       True       False  False       True      False   \n",
       "6  False       False      False       False  False      False       True   \n",
       "7   True        True       True        True   True      False      False   \n",
       "8  False       False      False        True   True       True      False   \n",
       "9   True       False       True        True  False      False      False   \n",
       "\n",
       "   banana  orange  peach  mango  maracuja  \n",
       "0    True    True  False   True     False  \n",
       "1   False   False   True  False     False  \n",
       "2   False   False  False  False     False  \n",
       "3    True   False  False  False      True  \n",
       "4   False   False  False  False     False  \n",
       "5   False   False  False  False     False  \n",
       "6   False    True  False   True     False  \n",
       "7   False   False  False  False     False  \n",
       "8   False   False  False  False     False  \n",
       "9   False   False   True  False     False  "
      ]
     },
     "execution_count": 32,
     "metadata": {},
     "output_type": "execute_result"
    }
   ],
   "source": [
    "fruits_bool"
   ]
  },
  {
   "cell_type": "markdown",
   "metadata": {},
   "source": [
    "As you can see, the dataframe signals whether an item is in an itemlist. At first glance, this doesn't look very intuitive. Let me show you how useful it can be."
   ]
  },
  {
   "cell_type": "markdown",
   "metadata": {},
   "source": [
    "With one line of code, we can correlate the items."
   ]
  },
  {
   "cell_type": "code",
   "execution_count": 33,
   "metadata": {},
   "outputs": [],
   "source": [
    "fruits_corr = fruits_bool.corr() # no need to specify the method, as pearson and spearman will return the same results."
   ]
  },
  {
   "cell_type": "code",
   "execution_count": 34,
   "metadata": {},
   "outputs": [
    {
     "data": {
      "text/html": [
       "<div>\n",
       "<style scoped>\n",
       "    .dataframe tbody tr th:only-of-type {\n",
       "        vertical-align: middle;\n",
       "    }\n",
       "\n",
       "    .dataframe tbody tr th {\n",
       "        vertical-align: top;\n",
       "    }\n",
       "\n",
       "    .dataframe thead th {\n",
       "        text-align: right;\n",
       "    }\n",
       "</style>\n",
       "<table border=\"1\" class=\"dataframe\">\n",
       "  <thead>\n",
       "    <tr style=\"text-align: right;\">\n",
       "      <th></th>\n",
       "      <th>apple</th>\n",
       "      <th>watermelon</th>\n",
       "      <th>blueberry</th>\n",
       "      <th>strawberry</th>\n",
       "      <th>pear</th>\n",
       "      <th>raspberry</th>\n",
       "      <th>pineapple</th>\n",
       "      <th>banana</th>\n",
       "      <th>orange</th>\n",
       "      <th>peach</th>\n",
       "      <th>mango</th>\n",
       "      <th>maracuja</th>\n",
       "    </tr>\n",
       "  </thead>\n",
       "  <tbody>\n",
       "    <tr>\n",
       "      <th>apple</th>\n",
       "      <td>1.000000e+00</td>\n",
       "      <td>0.408248</td>\n",
       "      <td>0.408248</td>\n",
       "      <td>0.000000</td>\n",
       "      <td>0.218218</td>\n",
       "      <td>-0.218218</td>\n",
       "      <td>-1.387779e-17</td>\n",
       "      <td>0.000000</td>\n",
       "      <td>-0.500000</td>\n",
       "      <td>0.500000</td>\n",
       "      <td>-0.500000</td>\n",
       "      <td>0.333333</td>\n",
       "    </tr>\n",
       "    <tr>\n",
       "      <th>watermelon</th>\n",
       "      <td>4.082483e-01</td>\n",
       "      <td>1.000000</td>\n",
       "      <td>0.166667</td>\n",
       "      <td>-0.250000</td>\n",
       "      <td>-0.089087</td>\n",
       "      <td>-0.089087</td>\n",
       "      <td>1.020621e-01</td>\n",
       "      <td>0.612372</td>\n",
       "      <td>0.102062</td>\n",
       "      <td>-0.408248</td>\n",
       "      <td>0.102062</td>\n",
       "      <td>0.408248</td>\n",
       "    </tr>\n",
       "    <tr>\n",
       "      <th>blueberry</th>\n",
       "      <td>4.082483e-01</td>\n",
       "      <td>0.166667</td>\n",
       "      <td>1.000000</td>\n",
       "      <td>0.583333</td>\n",
       "      <td>-0.089087</td>\n",
       "      <td>0.356348</td>\n",
       "      <td>-4.082483e-01</td>\n",
       "      <td>-0.408248</td>\n",
       "      <td>-0.408248</td>\n",
       "      <td>0.102062</td>\n",
       "      <td>-0.408248</td>\n",
       "      <td>-0.272166</td>\n",
       "    </tr>\n",
       "    <tr>\n",
       "      <th>strawberry</th>\n",
       "      <td>0.000000e+00</td>\n",
       "      <td>-0.250000</td>\n",
       "      <td>0.583333</td>\n",
       "      <td>1.000000</td>\n",
       "      <td>0.356348</td>\n",
       "      <td>0.356348</td>\n",
       "      <td>-4.082483e-01</td>\n",
       "      <td>-0.408248</td>\n",
       "      <td>-0.408248</td>\n",
       "      <td>0.102062</td>\n",
       "      <td>-0.408248</td>\n",
       "      <td>-0.272166</td>\n",
       "    </tr>\n",
       "    <tr>\n",
       "      <th>pear</th>\n",
       "      <td>2.182179e-01</td>\n",
       "      <td>-0.089087</td>\n",
       "      <td>-0.089087</td>\n",
       "      <td>0.356348</td>\n",
       "      <td>1.000000</td>\n",
       "      <td>0.047619</td>\n",
       "      <td>-3.273268e-01</td>\n",
       "      <td>-0.327327</td>\n",
       "      <td>-0.327327</td>\n",
       "      <td>0.218218</td>\n",
       "      <td>-0.327327</td>\n",
       "      <td>-0.218218</td>\n",
       "    </tr>\n",
       "    <tr>\n",
       "      <th>raspberry</th>\n",
       "      <td>-2.182179e-01</td>\n",
       "      <td>-0.089087</td>\n",
       "      <td>0.356348</td>\n",
       "      <td>0.356348</td>\n",
       "      <td>0.047619</td>\n",
       "      <td>1.000000</td>\n",
       "      <td>-3.273268e-01</td>\n",
       "      <td>-0.327327</td>\n",
       "      <td>-0.327327</td>\n",
       "      <td>-0.327327</td>\n",
       "      <td>-0.327327</td>\n",
       "      <td>-0.218218</td>\n",
       "    </tr>\n",
       "    <tr>\n",
       "      <th>pineapple</th>\n",
       "      <td>-1.387779e-17</td>\n",
       "      <td>0.102062</td>\n",
       "      <td>-0.408248</td>\n",
       "      <td>-0.408248</td>\n",
       "      <td>-0.327327</td>\n",
       "      <td>-0.327327</td>\n",
       "      <td>1.000000e+00</td>\n",
       "      <td>0.375000</td>\n",
       "      <td>0.375000</td>\n",
       "      <td>-0.250000</td>\n",
       "      <td>0.375000</td>\n",
       "      <td>0.666667</td>\n",
       "    </tr>\n",
       "    <tr>\n",
       "      <th>banana</th>\n",
       "      <td>0.000000e+00</td>\n",
       "      <td>0.612372</td>\n",
       "      <td>-0.408248</td>\n",
       "      <td>-0.408248</td>\n",
       "      <td>-0.327327</td>\n",
       "      <td>-0.327327</td>\n",
       "      <td>3.750000e-01</td>\n",
       "      <td>1.000000</td>\n",
       "      <td>0.375000</td>\n",
       "      <td>-0.250000</td>\n",
       "      <td>0.375000</td>\n",
       "      <td>0.666667</td>\n",
       "    </tr>\n",
       "    <tr>\n",
       "      <th>orange</th>\n",
       "      <td>-5.000000e-01</td>\n",
       "      <td>0.102062</td>\n",
       "      <td>-0.408248</td>\n",
       "      <td>-0.408248</td>\n",
       "      <td>-0.327327</td>\n",
       "      <td>-0.327327</td>\n",
       "      <td>3.750000e-01</td>\n",
       "      <td>0.375000</td>\n",
       "      <td>1.000000</td>\n",
       "      <td>-0.250000</td>\n",
       "      <td>1.000000</td>\n",
       "      <td>-0.166667</td>\n",
       "    </tr>\n",
       "    <tr>\n",
       "      <th>peach</th>\n",
       "      <td>5.000000e-01</td>\n",
       "      <td>-0.408248</td>\n",
       "      <td>0.102062</td>\n",
       "      <td>0.102062</td>\n",
       "      <td>0.218218</td>\n",
       "      <td>-0.327327</td>\n",
       "      <td>-2.500000e-01</td>\n",
       "      <td>-0.250000</td>\n",
       "      <td>-0.250000</td>\n",
       "      <td>1.000000</td>\n",
       "      <td>-0.250000</td>\n",
       "      <td>-0.166667</td>\n",
       "    </tr>\n",
       "    <tr>\n",
       "      <th>mango</th>\n",
       "      <td>-5.000000e-01</td>\n",
       "      <td>0.102062</td>\n",
       "      <td>-0.408248</td>\n",
       "      <td>-0.408248</td>\n",
       "      <td>-0.327327</td>\n",
       "      <td>-0.327327</td>\n",
       "      <td>3.750000e-01</td>\n",
       "      <td>0.375000</td>\n",
       "      <td>1.000000</td>\n",
       "      <td>-0.250000</td>\n",
       "      <td>1.000000</td>\n",
       "      <td>-0.166667</td>\n",
       "    </tr>\n",
       "    <tr>\n",
       "      <th>maracuja</th>\n",
       "      <td>3.333333e-01</td>\n",
       "      <td>0.408248</td>\n",
       "      <td>-0.272166</td>\n",
       "      <td>-0.272166</td>\n",
       "      <td>-0.218218</td>\n",
       "      <td>-0.218218</td>\n",
       "      <td>6.666667e-01</td>\n",
       "      <td>0.666667</td>\n",
       "      <td>-0.166667</td>\n",
       "      <td>-0.166667</td>\n",
       "      <td>-0.166667</td>\n",
       "      <td>1.000000</td>\n",
       "    </tr>\n",
       "  </tbody>\n",
       "</table>\n",
       "</div>"
      ],
      "text/plain": [
       "                   apple  watermelon  blueberry  strawberry      pear  \\\n",
       "apple       1.000000e+00    0.408248   0.408248    0.000000  0.218218   \n",
       "watermelon  4.082483e-01    1.000000   0.166667   -0.250000 -0.089087   \n",
       "blueberry   4.082483e-01    0.166667   1.000000    0.583333 -0.089087   \n",
       "strawberry  0.000000e+00   -0.250000   0.583333    1.000000  0.356348   \n",
       "pear        2.182179e-01   -0.089087  -0.089087    0.356348  1.000000   \n",
       "raspberry  -2.182179e-01   -0.089087   0.356348    0.356348  0.047619   \n",
       "pineapple  -1.387779e-17    0.102062  -0.408248   -0.408248 -0.327327   \n",
       "banana      0.000000e+00    0.612372  -0.408248   -0.408248 -0.327327   \n",
       "orange     -5.000000e-01    0.102062  -0.408248   -0.408248 -0.327327   \n",
       "peach       5.000000e-01   -0.408248   0.102062    0.102062  0.218218   \n",
       "mango      -5.000000e-01    0.102062  -0.408248   -0.408248 -0.327327   \n",
       "maracuja    3.333333e-01    0.408248  -0.272166   -0.272166 -0.218218   \n",
       "\n",
       "            raspberry     pineapple    banana    orange     peach     mango  \\\n",
       "apple       -0.218218 -1.387779e-17  0.000000 -0.500000  0.500000 -0.500000   \n",
       "watermelon  -0.089087  1.020621e-01  0.612372  0.102062 -0.408248  0.102062   \n",
       "blueberry    0.356348 -4.082483e-01 -0.408248 -0.408248  0.102062 -0.408248   \n",
       "strawberry   0.356348 -4.082483e-01 -0.408248 -0.408248  0.102062 -0.408248   \n",
       "pear         0.047619 -3.273268e-01 -0.327327 -0.327327  0.218218 -0.327327   \n",
       "raspberry    1.000000 -3.273268e-01 -0.327327 -0.327327 -0.327327 -0.327327   \n",
       "pineapple   -0.327327  1.000000e+00  0.375000  0.375000 -0.250000  0.375000   \n",
       "banana      -0.327327  3.750000e-01  1.000000  0.375000 -0.250000  0.375000   \n",
       "orange      -0.327327  3.750000e-01  0.375000  1.000000 -0.250000  1.000000   \n",
       "peach       -0.327327 -2.500000e-01 -0.250000 -0.250000  1.000000 -0.250000   \n",
       "mango       -0.327327  3.750000e-01  0.375000  1.000000 -0.250000  1.000000   \n",
       "maracuja    -0.218218  6.666667e-01  0.666667 -0.166667 -0.166667 -0.166667   \n",
       "\n",
       "            maracuja  \n",
       "apple       0.333333  \n",
       "watermelon  0.408248  \n",
       "blueberry  -0.272166  \n",
       "strawberry -0.272166  \n",
       "pear       -0.218218  \n",
       "raspberry  -0.218218  \n",
       "pineapple   0.666667  \n",
       "banana      0.666667  \n",
       "orange     -0.166667  \n",
       "peach      -0.166667  \n",
       "mango      -0.166667  \n",
       "maracuja    1.000000  "
      ]
     },
     "execution_count": 34,
     "metadata": {},
     "output_type": "execute_result"
    }
   ],
   "source": [
    "fruits_corr"
   ]
  },
  {
   "cell_type": "markdown",
   "metadata": {},
   "source": [
    "This is very useful! We can answer questions like: If a kid likes bananas, what kind of fruit is it propably going to like, too?"
   ]
  },
  {
   "cell_type": "code",
   "execution_count": 35,
   "metadata": {},
   "outputs": [
    {
     "data": {
      "text/plain": [
       "banana        1.000000\n",
       "maracuja      0.666667\n",
       "watermelon    0.612372\n",
       "mango         0.375000\n",
       "orange        0.375000\n",
       "pineapple     0.375000\n",
       "apple         0.000000\n",
       "peach        -0.250000\n",
       "raspberry    -0.327327\n",
       "pear         -0.327327\n",
       "strawberry   -0.408248\n",
       "blueberry    -0.408248\n",
       "Name: banana, dtype: float64"
      ]
     },
     "execution_count": 35,
     "metadata": {},
     "output_type": "execute_result"
    }
   ],
   "source": [
    "fruits_corr[\"banana\"].sort_values(ascending = False)"
   ]
  },
  {
   "cell_type": "markdown",
   "metadata": {},
   "source": [
    "We can tell that maracuja is the fruit that is most commonly liked by kids who like bananas."
   ]
  },
  {
   "cell_type": "markdown",
   "metadata": {},
   "source": [
    "Another useful thing to do is to count how many times an item co-occurs with the other items. This can easily be done using vectorized matrix multiplication. For that, we'll need to convert the boolean values to integers."
   ]
  },
  {
   "cell_type": "code",
   "execution_count": 45,
   "metadata": {},
   "outputs": [
    {
     "data": {
      "text/html": [
       "<div>\n",
       "<style scoped>\n",
       "    .dataframe tbody tr th:only-of-type {\n",
       "        vertical-align: middle;\n",
       "    }\n",
       "\n",
       "    .dataframe tbody tr th {\n",
       "        vertical-align: top;\n",
       "    }\n",
       "\n",
       "    .dataframe thead th {\n",
       "        text-align: right;\n",
       "    }\n",
       "</style>\n",
       "<table border=\"1\" class=\"dataframe\">\n",
       "  <thead>\n",
       "    <tr style=\"text-align: right;\">\n",
       "      <th></th>\n",
       "      <th>apple</th>\n",
       "      <th>watermelon</th>\n",
       "      <th>blueberry</th>\n",
       "      <th>strawberry</th>\n",
       "      <th>pear</th>\n",
       "      <th>raspberry</th>\n",
       "      <th>pineapple</th>\n",
       "      <th>banana</th>\n",
       "      <th>orange</th>\n",
       "      <th>peach</th>\n",
       "      <th>mango</th>\n",
       "      <th>maracuja</th>\n",
       "    </tr>\n",
       "  </thead>\n",
       "  <tbody>\n",
       "    <tr>\n",
       "      <th>0</th>\n",
       "      <td>0</td>\n",
       "      <td>1</td>\n",
       "      <td>0</td>\n",
       "      <td>0</td>\n",
       "      <td>0</td>\n",
       "      <td>0</td>\n",
       "      <td>0</td>\n",
       "      <td>1</td>\n",
       "      <td>1</td>\n",
       "      <td>0</td>\n",
       "      <td>1</td>\n",
       "      <td>0</td>\n",
       "    </tr>\n",
       "    <tr>\n",
       "      <th>1</th>\n",
       "      <td>1</td>\n",
       "      <td>0</td>\n",
       "      <td>0</td>\n",
       "      <td>0</td>\n",
       "      <td>1</td>\n",
       "      <td>0</td>\n",
       "      <td>0</td>\n",
       "      <td>0</td>\n",
       "      <td>0</td>\n",
       "      <td>1</td>\n",
       "      <td>0</td>\n",
       "      <td>0</td>\n",
       "    </tr>\n",
       "    <tr>\n",
       "      <th>2</th>\n",
       "      <td>0</td>\n",
       "      <td>0</td>\n",
       "      <td>0</td>\n",
       "      <td>0</td>\n",
       "      <td>0</td>\n",
       "      <td>0</td>\n",
       "      <td>0</td>\n",
       "      <td>0</td>\n",
       "      <td>0</td>\n",
       "      <td>0</td>\n",
       "      <td>0</td>\n",
       "      <td>0</td>\n",
       "    </tr>\n",
       "    <tr>\n",
       "      <th>3</th>\n",
       "      <td>1</td>\n",
       "      <td>1</td>\n",
       "      <td>0</td>\n",
       "      <td>0</td>\n",
       "      <td>0</td>\n",
       "      <td>0</td>\n",
       "      <td>1</td>\n",
       "      <td>1</td>\n",
       "      <td>0</td>\n",
       "      <td>0</td>\n",
       "      <td>0</td>\n",
       "      <td>1</td>\n",
       "    </tr>\n",
       "    <tr>\n",
       "      <th>4</th>\n",
       "      <td>0</td>\n",
       "      <td>0</td>\n",
       "      <td>1</td>\n",
       "      <td>1</td>\n",
       "      <td>0</td>\n",
       "      <td>1</td>\n",
       "      <td>0</td>\n",
       "      <td>0</td>\n",
       "      <td>0</td>\n",
       "      <td>0</td>\n",
       "      <td>0</td>\n",
       "      <td>0</td>\n",
       "    </tr>\n",
       "    <tr>\n",
       "      <th>5</th>\n",
       "      <td>1</td>\n",
       "      <td>1</td>\n",
       "      <td>1</td>\n",
       "      <td>0</td>\n",
       "      <td>0</td>\n",
       "      <td>1</td>\n",
       "      <td>0</td>\n",
       "      <td>0</td>\n",
       "      <td>0</td>\n",
       "      <td>0</td>\n",
       "      <td>0</td>\n",
       "      <td>0</td>\n",
       "    </tr>\n",
       "    <tr>\n",
       "      <th>6</th>\n",
       "      <td>0</td>\n",
       "      <td>0</td>\n",
       "      <td>0</td>\n",
       "      <td>0</td>\n",
       "      <td>0</td>\n",
       "      <td>0</td>\n",
       "      <td>1</td>\n",
       "      <td>0</td>\n",
       "      <td>1</td>\n",
       "      <td>0</td>\n",
       "      <td>1</td>\n",
       "      <td>0</td>\n",
       "    </tr>\n",
       "    <tr>\n",
       "      <th>7</th>\n",
       "      <td>1</td>\n",
       "      <td>1</td>\n",
       "      <td>1</td>\n",
       "      <td>1</td>\n",
       "      <td>1</td>\n",
       "      <td>0</td>\n",
       "      <td>0</td>\n",
       "      <td>0</td>\n",
       "      <td>0</td>\n",
       "      <td>0</td>\n",
       "      <td>0</td>\n",
       "      <td>0</td>\n",
       "    </tr>\n",
       "    <tr>\n",
       "      <th>8</th>\n",
       "      <td>0</td>\n",
       "      <td>0</td>\n",
       "      <td>0</td>\n",
       "      <td>1</td>\n",
       "      <td>1</td>\n",
       "      <td>1</td>\n",
       "      <td>0</td>\n",
       "      <td>0</td>\n",
       "      <td>0</td>\n",
       "      <td>0</td>\n",
       "      <td>0</td>\n",
       "      <td>0</td>\n",
       "    </tr>\n",
       "    <tr>\n",
       "      <th>9</th>\n",
       "      <td>1</td>\n",
       "      <td>0</td>\n",
       "      <td>1</td>\n",
       "      <td>1</td>\n",
       "      <td>0</td>\n",
       "      <td>0</td>\n",
       "      <td>0</td>\n",
       "      <td>0</td>\n",
       "      <td>0</td>\n",
       "      <td>1</td>\n",
       "      <td>0</td>\n",
       "      <td>0</td>\n",
       "    </tr>\n",
       "  </tbody>\n",
       "</table>\n",
       "</div>"
      ],
      "text/plain": [
       "   apple  watermelon  blueberry  strawberry  pear  raspberry  pineapple  \\\n",
       "0      0           1          0           0     0          0          0   \n",
       "1      1           0          0           0     1          0          0   \n",
       "2      0           0          0           0     0          0          0   \n",
       "3      1           1          0           0     0          0          1   \n",
       "4      0           0          1           1     0          1          0   \n",
       "5      1           1          1           0     0          1          0   \n",
       "6      0           0          0           0     0          0          1   \n",
       "7      1           1          1           1     1          0          0   \n",
       "8      0           0          0           1     1          1          0   \n",
       "9      1           0          1           1     0          0          0   \n",
       "\n",
       "   banana  orange  peach  mango  maracuja  \n",
       "0       1       1      0      1         0  \n",
       "1       0       0      1      0         0  \n",
       "2       0       0      0      0         0  \n",
       "3       1       0      0      0         1  \n",
       "4       0       0      0      0         0  \n",
       "5       0       0      0      0         0  \n",
       "6       0       1      0      1         0  \n",
       "7       0       0      0      0         0  \n",
       "8       0       0      0      0         0  \n",
       "9       0       0      1      0         0  "
      ]
     },
     "execution_count": 45,
     "metadata": {},
     "output_type": "execute_result"
    }
   ],
   "source": [
    "fruits_int = fruits_bool.astype(int)\n",
    "fruits_int.head(10)"
   ]
  },
  {
   "cell_type": "code",
   "execution_count": 46,
   "metadata": {},
   "outputs": [],
   "source": [
    "fruits_freq_mat = np.dot(fruits_int.T, fruits_int)"
   ]
  },
  {
   "cell_type": "code",
   "execution_count": 47,
   "metadata": {},
   "outputs": [
    {
     "data": {
      "text/plain": [
       "array([[5, 3, 3, 2, 2, 1, 1, 1, 0, 2, 0, 1],\n",
       "       [3, 4, 2, 1, 1, 1, 1, 2, 1, 0, 1, 1],\n",
       "       [3, 2, 4, 3, 1, 2, 0, 0, 0, 1, 0, 0],\n",
       "       [2, 1, 3, 4, 2, 2, 0, 0, 0, 1, 0, 0],\n",
       "       [2, 1, 1, 2, 3, 1, 0, 0, 0, 1, 0, 0],\n",
       "       [1, 1, 2, 2, 1, 3, 0, 0, 0, 0, 0, 0],\n",
       "       [1, 1, 0, 0, 0, 0, 2, 1, 1, 0, 1, 1],\n",
       "       [1, 2, 0, 0, 0, 0, 1, 2, 1, 0, 1, 1],\n",
       "       [0, 1, 0, 0, 0, 0, 1, 1, 2, 0, 2, 0],\n",
       "       [2, 0, 1, 1, 1, 0, 0, 0, 0, 2, 0, 0],\n",
       "       [0, 1, 0, 0, 0, 0, 1, 1, 2, 0, 2, 0],\n",
       "       [1, 1, 0, 0, 0, 0, 1, 1, 0, 0, 0, 1]])"
      ]
     },
     "execution_count": 47,
     "metadata": {},
     "output_type": "execute_result"
    }
   ],
   "source": [
    "fruits_freq_mat"
   ]
  },
  {
   "cell_type": "markdown",
   "metadata": {},
   "source": [
    "This can easily be converted back to a dataframe."
   ]
  },
  {
   "cell_type": "code",
   "execution_count": 39,
   "metadata": {},
   "outputs": [],
   "source": [
    "fruits_freq = pd.DataFrame(fruits_freq_mat, columns = unique_items.keys(), index = unique_items.keys())"
   ]
  },
  {
   "cell_type": "code",
   "execution_count": 40,
   "metadata": {},
   "outputs": [
    {
     "data": {
      "text/html": [
       "<div>\n",
       "<style scoped>\n",
       "    .dataframe tbody tr th:only-of-type {\n",
       "        vertical-align: middle;\n",
       "    }\n",
       "\n",
       "    .dataframe tbody tr th {\n",
       "        vertical-align: top;\n",
       "    }\n",
       "\n",
       "    .dataframe thead th {\n",
       "        text-align: right;\n",
       "    }\n",
       "</style>\n",
       "<table border=\"1\" class=\"dataframe\">\n",
       "  <thead>\n",
       "    <tr style=\"text-align: right;\">\n",
       "      <th></th>\n",
       "      <th>apple</th>\n",
       "      <th>watermelon</th>\n",
       "      <th>blueberry</th>\n",
       "      <th>strawberry</th>\n",
       "      <th>pear</th>\n",
       "      <th>raspberry</th>\n",
       "      <th>pineapple</th>\n",
       "      <th>banana</th>\n",
       "      <th>orange</th>\n",
       "      <th>peach</th>\n",
       "      <th>mango</th>\n",
       "      <th>maracuja</th>\n",
       "    </tr>\n",
       "  </thead>\n",
       "  <tbody>\n",
       "    <tr>\n",
       "      <th>apple</th>\n",
       "      <td>5</td>\n",
       "      <td>3</td>\n",
       "      <td>3</td>\n",
       "      <td>2</td>\n",
       "      <td>2</td>\n",
       "      <td>1</td>\n",
       "      <td>1</td>\n",
       "      <td>1</td>\n",
       "      <td>0</td>\n",
       "      <td>2</td>\n",
       "      <td>0</td>\n",
       "      <td>1</td>\n",
       "    </tr>\n",
       "    <tr>\n",
       "      <th>watermelon</th>\n",
       "      <td>3</td>\n",
       "      <td>4</td>\n",
       "      <td>2</td>\n",
       "      <td>1</td>\n",
       "      <td>1</td>\n",
       "      <td>1</td>\n",
       "      <td>1</td>\n",
       "      <td>2</td>\n",
       "      <td>1</td>\n",
       "      <td>0</td>\n",
       "      <td>1</td>\n",
       "      <td>1</td>\n",
       "    </tr>\n",
       "    <tr>\n",
       "      <th>blueberry</th>\n",
       "      <td>3</td>\n",
       "      <td>2</td>\n",
       "      <td>4</td>\n",
       "      <td>3</td>\n",
       "      <td>1</td>\n",
       "      <td>2</td>\n",
       "      <td>0</td>\n",
       "      <td>0</td>\n",
       "      <td>0</td>\n",
       "      <td>1</td>\n",
       "      <td>0</td>\n",
       "      <td>0</td>\n",
       "    </tr>\n",
       "    <tr>\n",
       "      <th>strawberry</th>\n",
       "      <td>2</td>\n",
       "      <td>1</td>\n",
       "      <td>3</td>\n",
       "      <td>4</td>\n",
       "      <td>2</td>\n",
       "      <td>2</td>\n",
       "      <td>0</td>\n",
       "      <td>0</td>\n",
       "      <td>0</td>\n",
       "      <td>1</td>\n",
       "      <td>0</td>\n",
       "      <td>0</td>\n",
       "    </tr>\n",
       "    <tr>\n",
       "      <th>pear</th>\n",
       "      <td>2</td>\n",
       "      <td>1</td>\n",
       "      <td>1</td>\n",
       "      <td>2</td>\n",
       "      <td>3</td>\n",
       "      <td>1</td>\n",
       "      <td>0</td>\n",
       "      <td>0</td>\n",
       "      <td>0</td>\n",
       "      <td>1</td>\n",
       "      <td>0</td>\n",
       "      <td>0</td>\n",
       "    </tr>\n",
       "    <tr>\n",
       "      <th>raspberry</th>\n",
       "      <td>1</td>\n",
       "      <td>1</td>\n",
       "      <td>2</td>\n",
       "      <td>2</td>\n",
       "      <td>1</td>\n",
       "      <td>3</td>\n",
       "      <td>0</td>\n",
       "      <td>0</td>\n",
       "      <td>0</td>\n",
       "      <td>0</td>\n",
       "      <td>0</td>\n",
       "      <td>0</td>\n",
       "    </tr>\n",
       "    <tr>\n",
       "      <th>pineapple</th>\n",
       "      <td>1</td>\n",
       "      <td>1</td>\n",
       "      <td>0</td>\n",
       "      <td>0</td>\n",
       "      <td>0</td>\n",
       "      <td>0</td>\n",
       "      <td>2</td>\n",
       "      <td>1</td>\n",
       "      <td>1</td>\n",
       "      <td>0</td>\n",
       "      <td>1</td>\n",
       "      <td>1</td>\n",
       "    </tr>\n",
       "    <tr>\n",
       "      <th>banana</th>\n",
       "      <td>1</td>\n",
       "      <td>2</td>\n",
       "      <td>0</td>\n",
       "      <td>0</td>\n",
       "      <td>0</td>\n",
       "      <td>0</td>\n",
       "      <td>1</td>\n",
       "      <td>2</td>\n",
       "      <td>1</td>\n",
       "      <td>0</td>\n",
       "      <td>1</td>\n",
       "      <td>1</td>\n",
       "    </tr>\n",
       "    <tr>\n",
       "      <th>orange</th>\n",
       "      <td>0</td>\n",
       "      <td>1</td>\n",
       "      <td>0</td>\n",
       "      <td>0</td>\n",
       "      <td>0</td>\n",
       "      <td>0</td>\n",
       "      <td>1</td>\n",
       "      <td>1</td>\n",
       "      <td>2</td>\n",
       "      <td>0</td>\n",
       "      <td>2</td>\n",
       "      <td>0</td>\n",
       "    </tr>\n",
       "    <tr>\n",
       "      <th>peach</th>\n",
       "      <td>2</td>\n",
       "      <td>0</td>\n",
       "      <td>1</td>\n",
       "      <td>1</td>\n",
       "      <td>1</td>\n",
       "      <td>0</td>\n",
       "      <td>0</td>\n",
       "      <td>0</td>\n",
       "      <td>0</td>\n",
       "      <td>2</td>\n",
       "      <td>0</td>\n",
       "      <td>0</td>\n",
       "    </tr>\n",
       "    <tr>\n",
       "      <th>mango</th>\n",
       "      <td>0</td>\n",
       "      <td>1</td>\n",
       "      <td>0</td>\n",
       "      <td>0</td>\n",
       "      <td>0</td>\n",
       "      <td>0</td>\n",
       "      <td>1</td>\n",
       "      <td>1</td>\n",
       "      <td>2</td>\n",
       "      <td>0</td>\n",
       "      <td>2</td>\n",
       "      <td>0</td>\n",
       "    </tr>\n",
       "    <tr>\n",
       "      <th>maracuja</th>\n",
       "      <td>1</td>\n",
       "      <td>1</td>\n",
       "      <td>0</td>\n",
       "      <td>0</td>\n",
       "      <td>0</td>\n",
       "      <td>0</td>\n",
       "      <td>1</td>\n",
       "      <td>1</td>\n",
       "      <td>0</td>\n",
       "      <td>0</td>\n",
       "      <td>0</td>\n",
       "      <td>1</td>\n",
       "    </tr>\n",
       "  </tbody>\n",
       "</table>\n",
       "</div>"
      ],
      "text/plain": [
       "            apple  watermelon  blueberry  strawberry  pear  raspberry  \\\n",
       "apple           5           3          3           2     2          1   \n",
       "watermelon      3           4          2           1     1          1   \n",
       "blueberry       3           2          4           3     1          2   \n",
       "strawberry      2           1          3           4     2          2   \n",
       "pear            2           1          1           2     3          1   \n",
       "raspberry       1           1          2           2     1          3   \n",
       "pineapple       1           1          0           0     0          0   \n",
       "banana          1           2          0           0     0          0   \n",
       "orange          0           1          0           0     0          0   \n",
       "peach           2           0          1           1     1          0   \n",
       "mango           0           1          0           0     0          0   \n",
       "maracuja        1           1          0           0     0          0   \n",
       "\n",
       "            pineapple  banana  orange  peach  mango  maracuja  \n",
       "apple               1       1       0      2      0         1  \n",
       "watermelon          1       2       1      0      1         1  \n",
       "blueberry           0       0       0      1      0         0  \n",
       "strawberry          0       0       0      1      0         0  \n",
       "pear                0       0       0      1      0         0  \n",
       "raspberry           0       0       0      0      0         0  \n",
       "pineapple           2       1       1      0      1         1  \n",
       "banana              1       2       1      0      1         1  \n",
       "orange              1       1       2      0      2         0  \n",
       "peach               0       0       0      2      0         0  \n",
       "mango               1       1       2      0      2         0  \n",
       "maracuja            1       1       0      0      0         1  "
      ]
     },
     "execution_count": 40,
     "metadata": {},
     "output_type": "execute_result"
    }
   ],
   "source": [
    "fruits_freq"
   ]
  },
  {
   "cell_type": "markdown",
   "metadata": {},
   "source": [
    "We can also visualize this using a heatmap, for example."
   ]
  },
  {
   "cell_type": "code",
   "execution_count": 93,
   "metadata": {},
   "outputs": [],
   "source": [
    "import seaborn as sn"
   ]
  },
  {
   "cell_type": "code",
   "execution_count": 115,
   "metadata": {},
   "outputs": [
    {
     "data": {
      "image/png": "[encoded data removed]",
      "text/plain": [
       "<Figure size 648x360 with 2 Axes>"
      ]
     },
     "metadata": {
      "needs_background": "light"
     },
     "output_type": "display_data"
    }
   ],
   "source": [
    "fig, ax = plt.subplots(figsize = (9,5))\n",
    "sn.heatmap(fruits_freq, cmap = \"Blues\")\n",
    "plt.xticks(rotation=50)\n",
    "plt.savefig(\"heatmap.png\", dpi = 300)\n"
   ]
  },
  {
   "cell_type": "markdown",
   "metadata": {},
   "source": [
    "_____________________________________________________________"
   ]
  },
  {
   "cell_type": "markdown",
   "metadata": {},
   "source": [
    "__I hope this was helpful for you. Thanks for reading!__"
   ]
  }
 ],
 "metadata": {
  "kernelspec": {
   "display_name": "Python 3",
   "language": "python",
   "name": "python3"
  },
  "language_info": {
   "codemirror_mode": {
    "name": "ipython",
    "version": 3
   },
   "file_extension": ".py",
   "mimetype": "text/x-python",
   "name": "python",
   "nbconvert_exporter": "python",
   "pygments_lexer": "ipython3",
   "version": "3.7.6"
  }
 },
 "nbformat": 4,
 "nbformat_minor": 4
}
